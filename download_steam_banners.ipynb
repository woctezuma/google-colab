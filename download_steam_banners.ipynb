{
  "nbformat": 4,
  "nbformat_minor": 0,
  "metadata": {
    "colab": {
      "name": "Copie de download_steam_banners.ipynb",
      "provenance": [],
      "collapsed_sections": []
    },
    "kernelspec": {
      "name": "python3",
      "display_name": "Python 3"
    }
  },
  "cells": [
    {
      "cell_type": "markdown",
      "metadata": {
        "id": "pG841piTHS8x",
        "colab_type": "text"
      },
      "source": [
        "# Download Steam Banners\n",
        "\n",
        "Code inspired from https://github.com/woctezuma/download-steam-banners"
      ]
    },
    {
      "cell_type": "markdown",
      "metadata": {
        "id": "xkwJV9lUfb-l",
        "colab_type": "text"
      },
      "source": [
        "## Setting"
      ]
    },
    {
      "cell_type": "markdown",
      "metadata": {
        "id": "aM5Ywh7Ec281",
        "colab_type": "text"
      },
      "source": [
        "Mount Google Drive"
      ]
    },
    {
      "cell_type": "code",
      "metadata": {
        "id": "GK0mO90WADnl",
        "colab_type": "code",
        "colab": {
          "base_uri": "https://localhost:8080/",
          "height": 35
        },
        "outputId": "adc74074-725d-4293-f6bb-a261f682230f"
      },
      "source": [
        "!pip install Google-Colab-Transfer"
      ],
      "execution_count": null,
      "outputs": [
        {
          "output_type": "stream",
          "text": [
            "Requirement already satisfied: Google-Colab-Transfer in /usr/local/lib/python3.6/dist-packages (0.1.4)\n"
          ],
          "name": "stdout"
        }
      ]
    },
    {
      "cell_type": "code",
      "metadata": {
        "id": "f327tmdxAF3G",
        "colab_type": "code",
        "colab": {
          "base_uri": "https://localhost:8080/",
          "height": 35
        },
        "outputId": "5238dfd0-420c-482f-eecc-473e6e0668c0"
      },
      "source": [
        "import colab_transfer\n",
        "\n",
        "colab_transfer.mount_google_drive()"
      ],
      "execution_count": null,
      "outputs": [
        {
          "output_type": "stream",
          "text": [
            "Drive already mounted at /content/drive/; to attempt to forcibly remount, call drive.mount(\"/content/drive/\", force_remount=True).\n"
          ],
          "name": "stdout"
        }
      ]
    },
    {
      "cell_type": "markdown",
      "metadata": {
        "id": "YejAnaLDcw87",
        "colab_type": "text"
      },
      "source": [
        "Install Python requirements"
      ]
    },
    {
      "cell_type": "code",
      "metadata": {
        "id": "2ZKJvvkb5shE",
        "colab_type": "code",
        "colab": {
          "base_uri": "https://localhost:8080/",
          "height": 274
        },
        "outputId": "1a503e86-f8ba-493a-d764-d1d50d830380"
      },
      "source": [
        "!pip install aiofiles aiohttp nest_asyncio steamspypi"
      ],
      "execution_count": null,
      "outputs": [
        {
          "output_type": "stream",
          "text": [
            "Requirement already satisfied: aiofiles in /usr/local/lib/python3.6/dist-packages (0.4.0)\n",
            "Requirement already satisfied: aiohttp in /usr/local/lib/python3.6/dist-packages (3.6.2)\n",
            "Requirement already satisfied: steamspypi in /usr/local/lib/python3.6/dist-packages (1.0.0)\n",
            "Requirement already satisfied: chardet<4.0,>=2.0 in /usr/local/lib/python3.6/dist-packages (from aiohttp) (3.0.4)\n",
            "Requirement already satisfied: typing-extensions>=3.6.5; python_version < \"3.7\" in /usr/local/lib/python3.6/dist-packages (from aiohttp) (3.6.6)\n",
            "Requirement already satisfied: async-timeout<4.0,>=3.0 in /usr/local/lib/python3.6/dist-packages (from aiohttp) (3.0.1)\n",
            "Requirement already satisfied: yarl<2.0,>=1.0 in /usr/local/lib/python3.6/dist-packages (from aiohttp) (1.4.2)\n",
            "Requirement already satisfied: attrs>=17.3.0 in /usr/local/lib/python3.6/dist-packages (from aiohttp) (19.3.0)\n",
            "Requirement already satisfied: idna-ssl>=1.0; python_version < \"3.7\" in /usr/local/lib/python3.6/dist-packages (from aiohttp) (1.1.0)\n",
            "Requirement already satisfied: multidict<5.0,>=4.5 in /usr/local/lib/python3.6/dist-packages (from aiohttp) (4.7.4)\n",
            "Requirement already satisfied: requests in /usr/local/lib/python3.6/dist-packages (from steamspypi) (2.21.0)\n",
            "Requirement already satisfied: idna>=2.0 in /usr/local/lib/python3.6/dist-packages (from yarl<2.0,>=1.0->aiohttp) (2.8)\n",
            "Requirement already satisfied: certifi>=2017.4.17 in /usr/local/lib/python3.6/dist-packages (from requests->steamspypi) (2019.11.28)\n",
            "Requirement already satisfied: urllib3<1.25,>=1.21.1 in /usr/local/lib/python3.6/dist-packages (from requests->steamspypi) (1.24.3)\n"
          ],
          "name": "stdout"
        }
      ]
    },
    {
      "cell_type": "markdown",
      "metadata": {
        "id": "12pD__7ExGkY",
        "colab_type": "text"
      },
      "source": [
        "In Colab notebooks, the following error [can arise](https://stackoverflow.com/a/62608278) after `loop.run_until_complete()` is called.\n",
        "> RuntimeError: This event loop is already running\n",
        "\n",
        "To avoid this error, [the following piece of code](https://stackoverflow.com/a/56434301) seems necessary."
      ]
    },
    {
      "cell_type": "code",
      "metadata": {
        "id": "xcG0PSLuxG1P",
        "colab_type": "code",
        "colab": {}
      },
      "source": [
        "import nest_asyncio\n",
        "\n",
        "nest_asyncio.apply()"
      ],
      "execution_count": null,
      "outputs": []
    },
    {
      "cell_type": "markdown",
      "metadata": {
        "id": "OzuqWFWfeA1L",
        "colab_type": "text"
      },
      "source": [
        "Input"
      ]
    },
    {
      "cell_type": "code",
      "metadata": {
        "id": "8mg0uhVwAD85",
        "colab_type": "code",
        "colab": {}
      },
      "source": [
        "import steamspypi\n",
        "\n",
        "def get_app_ids_file_name():\n",
        "  return 'app_ids.txt'\n",
        "\n",
        "def create_app_id_list():\n",
        "  data = steamspypi.load()\n",
        "  \n",
        "  with open(get_app_ids_file_name(), 'w') as f:\n",
        "    for app_id in sorted(list(data.keys()), key=int):\n",
        "      f.write(str(app_id) + '\\n')\n",
        "\n",
        "def get_app_ids():\n",
        "    with open(get_app_ids_file_name(), 'r') as f:\n",
        "      app_ids = [int(app_id.strip()) for app_id in f.readlines()]\n",
        "    return app_ids"
      ],
      "execution_count": null,
      "outputs": []
    },
    {
      "cell_type": "markdown",
      "metadata": {
        "id": "yZ5GF5UndxE6",
        "colab_type": "text"
      },
      "source": [
        "Data source"
      ]
    },
    {
      "cell_type": "code",
      "metadata": {
        "id": "0RdMIoOlAlIC",
        "colab_type": "code",
        "colab": {}
      },
      "source": [
        "def get_banner_conventional_name(is_horizontal_banner=True):\n",
        "  if is_horizontal_banner:\n",
        "    # A choice of horizontal banners:\n",
        "    # NB: originally, I used 'header' for my experiments with Steam banners.\n",
        "\n",
        "    # banner_conventional_name = 'header' # 460x215 ; ratio 2.14\n",
        "    # banner_conventional_name = 'capsule_231x87' # 231x87 ; ratio 2.66\n",
        "    # banner_conventional_name = 'capsule_467x181' # 467x181 ; ratio 2.58\n",
        "    banner_conventional_name = 'capsule_616x353' # 616x353 ; ratio 1.75\n",
        "\n",
        "  else:\n",
        "    # A choice of vertical banners:\n",
        "    # Caveat: these may not always exist! It is a recent addition to Steam!\n",
        "    \n",
        "    banner_conventional_name = 'library_600x900' # 300x450 ; ratio 0.67\n",
        "    # banner_conventional_name = 'library_600x900_2x' # 600x900 ; ratio 0.67\n",
        "\n",
        "  return banner_conventional_name"
      ],
      "execution_count": null,
      "outputs": []
    },
    {
      "cell_type": "code",
      "metadata": {
        "id": "1huqyXv6d0on",
        "colab_type": "code",
        "colab": {}
      },
      "source": [
        "def get_banner_url(app_id, \n",
        "                   is_horizontal_banner=True):\n",
        "  return 'https://steamcdn-a.akamaihd.net/steam/apps/' + str(app_id) + '/' + get_banner_conventional_name(is_horizontal_banner) + '.jpg'  "
      ],
      "execution_count": null,
      "outputs": []
    },
    {
      "cell_type": "markdown",
      "metadata": {
        "id": "OKj7gjHhd9g_",
        "colab_type": "text"
      },
      "source": [
        "Output"
      ]
    },
    {
      "cell_type": "code",
      "metadata": {
        "id": "HEhNyJPveEFz",
        "colab_type": "code",
        "colab": {}
      },
      "source": [
        "from pathlib import Path\n",
        "\n",
        "def get_banner_folder(prefixe = 'original', \n",
        "                      is_horizontal_banner=True):\n",
        "  if is_horizontal_banner:\n",
        "    prefixe += '_horizontal'\n",
        "  else:\n",
        "    prefixe += '_vertical'\n",
        "\n",
        "  banner_folder = 'data/'+prefixe+'_steam_banners/'\n",
        "  Path(banner_folder).mkdir(exist_ok=True)  \n",
        "  return banner_folder\n",
        "\n",
        "def get_file_extension():\n",
        "  return '.jpg'\n",
        "  \n",
        "def get_banner_file_name(app_id, \n",
        "                         prefixe='original',\n",
        "                         is_horizontal_banner=True):\n",
        "  banner_folder_name = get_banner_folder(prefixe=prefixe,\n",
        "                                          is_horizontal_banner=is_horizontal_banner)  \n",
        "  banner_file_name = banner_folder_name + str(app_id) + get_file_extension()\n",
        "  return banner_file_name"
      ],
      "execution_count": null,
      "outputs": []
    },
    {
      "cell_type": "markdown",
      "metadata": {
        "id": "-RekEbXreaCS",
        "colab_type": "text"
      },
      "source": [
        "## Download Steam banners"
      ]
    },
    {
      "cell_type": "markdown",
      "metadata": {
        "id": "_oMyECzzehUG",
        "colab_type": "text"
      },
      "source": [
        "**Caveat**: there are about 30,000 banners to download!"
      ]
    },
    {
      "cell_type": "code",
      "metadata": {
        "id": "8nuLWA1r9Rs2",
        "colab_type": "code",
        "colab": {}
      },
      "source": [
        "import asyncio\n",
        "import aiofiles\n",
        "import aiohttp\n",
        "\n",
        "async def main(is_horizontal_banner=True):\n",
        "    async with aiohttp.ClientSession() as session:\n",
        "\n",
        "        for app_id in sorted(get_app_ids()):\n",
        "            banner_file_name = Path(get_banner_file_name(app_id, \n",
        "                                                         is_horizontal_banner=is_horizontal_banner))\n",
        "\n",
        "            if banner_file_name.exists():\n",
        "                continue\n",
        "\n",
        "            banner_url = get_banner_url(app_id, \n",
        "                                        is_horizontal_banner)\n",
        "\n",
        "            # Reference: https://stackoverflow.com/a/51745925\n",
        "            async with session.get(banner_url) as resp:\n",
        "                if resp.status == 200:\n",
        "                    f = await aiofiles.open(banner_file_name, mode='wb')\n",
        "                    await f.write(await resp.read())\n",
        "                    await f.close()\n",
        "                    print('Banner downloaded to {} for appID {}.'.format(banner_file_name, app_id))\n",
        "                else:\n",
        "                    print('Banner for appID {} could not be downloaded.'.format(app_id))\n"
      ],
      "execution_count": null,
      "outputs": []
    },
    {
      "cell_type": "code",
      "metadata": {
        "id": "oZ711W-KBkiP",
        "colab_type": "code",
        "colab": {}
      },
      "source": [
        "# For horizontal banners:\n",
        "is_horizontal_banner=True\n",
        "\n",
        "# For vertical banners:\n",
        "# is_horizontal_banner=False"
      ],
      "execution_count": null,
      "outputs": []
    },
    {
      "cell_type": "code",
      "metadata": {
        "id": "-grMZY_7AHE5",
        "colab_type": "code",
        "colab": {}
      },
      "source": [
        "create_app_id_list()\n",
        "\n",
        "loop = asyncio.get_event_loop()\n",
        "loop.run_until_complete(main(is_horizontal_banner=is_horizontal_banner))"
      ],
      "execution_count": null,
      "outputs": []
    },
    {
      "cell_type": "markdown",
      "metadata": {
        "id": "fnsA-SMnfsLz",
        "colab_type": "text"
      },
      "source": [
        "## Post-processing appIDs"
      ]
    },
    {
      "cell_type": "markdown",
      "metadata": {
        "id": "Vs_LG2rAgOgL",
        "colab_type": "text"
      },
      "source": [
        "AppIDs for which a Steam banner was effectively downloaded:"
      ]
    },
    {
      "cell_type": "code",
      "metadata": {
        "id": "IltEEDKtZVjX",
        "colab_type": "code",
        "colab": {}
      },
      "source": [
        "import glob\n",
        "\n",
        "def get_app_ids_with_steam_banners(is_horizontal_banner=True):\n",
        "    image_filenames = Path(get_banner_folder(is_horizontal_banner=is_horizontal_banner)).glob('*' + get_file_extension())\n",
        "\n",
        "    app_ids = [banner.name.strip(get_file_extension()) for banner in image_filenames]\n",
        "    \n",
        "    # There is an issue with duplicates, e.g. 'ABC (1).jpg' but only when running on Google Drive:\n",
        "    app_ids = [app_id for app_id in app_ids if ' (' not in app_id]\n",
        "\n",
        "    app_ids = [int(app_id) for app_id in app_ids]\n",
        "    \n",
        "    return app_ids"
      ],
      "execution_count": null,
      "outputs": []
    },
    {
      "cell_type": "markdown",
      "metadata": {
        "id": "HMrAnRd6g4Lb",
        "colab_type": "text"
      },
      "source": [
        "Compare the number appIDs in SteamSpy database with the number of banners saved to disk"
      ]
    },
    {
      "cell_type": "code",
      "metadata": {
        "id": "f7V2bYeOTvv1",
        "colab_type": "code",
        "colab": {
          "base_uri": "https://localhost:8080/",
          "height": 54
        },
        "outputId": "a6230520-4672-4fa2-c146-5f4231d81268"
      },
      "source": [
        "create_app_id_list()     \n",
        "\n",
        "app_ids = get_app_ids()\n",
        "print('#appIDs in SteamSpy database = {}'.format(len(app_ids)))\n",
        "\n",
        "app_ids_with_steam_banners = get_app_ids_with_steam_banners(is_horizontal_banner=is_horizontal_banner)\n",
        "print('#banners saved to disk = {}'.format(len(app_ids_with_steam_banners)))"
      ],
      "execution_count": null,
      "outputs": [
        {
          "output_type": "stream",
          "text": [
            "#appIDs in SteamSpy database = 33821\n",
            "#banners saved to disk = 14035\n"
          ],
          "name": "stdout"
        }
      ]
    },
    {
      "cell_type": "markdown",
      "metadata": {
        "id": "Yb9jBZNQhYMD",
        "colab_type": "text"
      },
      "source": [
        "Omit appIDs for which a banner could not be found"
      ]
    },
    {
      "cell_type": "code",
      "metadata": {
        "id": "5fheI8_JKhE0",
        "colab_type": "code",
        "colab": {}
      },
      "source": [
        "def trim_app_id_list(is_horizontal_banner=True):\n",
        "  app_ids = get_app_ids()\n",
        "  \n",
        "  app_ids_with_steam_banners = get_app_ids_with_steam_banners(is_horizontal_banner=is_horizontal_banner)\n",
        "  \n",
        "  common_app_ids = set(app_ids).intersection(app_ids_with_steam_banners) \n",
        "  \n",
        "  with open(get_app_ids_file_name(), 'w') as f:\n",
        "    for app_id in sorted(common_app_ids, key=int):\n",
        "      f.write(str(app_id) + '\\n')   "
      ],
      "execution_count": null,
      "outputs": []
    },
    {
      "cell_type": "code",
      "metadata": {
        "id": "XygFSJyAhP_9",
        "colab_type": "code",
        "colab": {
          "base_uri": "https://localhost:8080/",
          "height": 35
        },
        "outputId": "880cb95c-2dee-40d4-d361-2f27c7340726"
      },
      "source": [
        "create_app_id_list()    \n",
        "trim_app_id_list(is_horizontal_banner=is_horizontal_banner)     \n",
        "\n",
        "app_ids = get_app_ids()\n",
        "print('#appIDs in SteamSpy database, and with a banner saved to disk = {}'.format(len(app_ids)))"
      ],
      "execution_count": null,
      "outputs": [
        {
          "output_type": "stream",
          "text": [
            "#appIDs in SteamSpy database, and with a banner saved to disk = 14023\n"
          ],
          "name": "stdout"
        }
      ]
    },
    {
      "cell_type": "markdown",
      "metadata": {
        "id": "vbB4T7PICRBZ",
        "colab_type": "text"
      },
      "source": [
        "## Archive the downloaded Steam banners to Google Drive\n",
        "\n",
        "Before applying any post-processing, we archive the downloaded Steam banners to Google Drive."
      ]
    },
    {
      "cell_type": "code",
      "metadata": {
        "id": "xKGmXozyFj69",
        "colab_type": "code",
        "colab": {}
      },
      "source": [
        "import colab_transfer\n",
        "\n",
        "colab_path = colab_transfer.get_path_to_home_of_local_machine()\n",
        "drive_path = colab_transfer.get_path_to_home_of_google_drive()"
      ],
      "execution_count": null,
      "outputs": []
    },
    {
      "cell_type": "markdown",
      "metadata": {
        "id": "931S8-wPCUYR",
        "colab_type": "text"
      },
      "source": [
        "### Horizontal banners"
      ]
    },
    {
      "cell_type": "code",
      "metadata": {
        "id": "T6edlQzNFhsU",
        "colab_type": "code",
        "colab": {}
      },
      "source": [
        "input_file_name = 'original_horizontal_steam_banners.tar'"
      ],
      "execution_count": null,
      "outputs": []
    },
    {
      "cell_type": "markdown",
      "metadata": {
        "id": "kqIChYa_FUaf",
        "colab_type": "text"
      },
      "source": [
        "Save to Google Drive"
      ]
    },
    {
      "cell_type": "code",
      "metadata": {
        "id": "2OQH0-CpCSYp",
        "colab_type": "code",
        "colab": {}
      },
      "source": [
        "!du -sh /content/data/original_horizontal_steam_banners/"
      ],
      "execution_count": null,
      "outputs": []
    },
    {
      "cell_type": "code",
      "metadata": {
        "id": "C-zsxFXRCgkK",
        "colab_type": "code",
        "colab": {}
      },
      "source": [
        "!tar cvf original_horizontal_steam_banners.tar /content/data/original_horizontal_steam_banners/"
      ],
      "execution_count": null,
      "outputs": []
    },
    {
      "cell_type": "code",
      "metadata": {
        "id": "g6cKjHYzChxR",
        "colab_type": "code",
        "colab": {}
      },
      "source": [
        "!du -sh /content/original_horizontal_steam_banners.tar"
      ],
      "execution_count": null,
      "outputs": []
    },
    {
      "cell_type": "code",
      "metadata": {
        "id": "Wp8SNl61Ch9w",
        "colab_type": "code",
        "colab": {}
      },
      "source": [
        "colab_transfer.copy_file(\n",
        "    file_name=input_file_name,\n",
        "    source=colab_path,\n",
        "    destination=drive_path,\n",
        ")"
      ],
      "execution_count": null,
      "outputs": []
    },
    {
      "cell_type": "markdown",
      "metadata": {
        "id": "x84gvhKAFXXI",
        "colab_type": "text"
      },
      "source": [
        "Load from Google Drive"
      ]
    },
    {
      "cell_type": "code",
      "metadata": {
        "id": "V29N6nCNFWYq",
        "colab_type": "code",
        "colab": {
          "base_uri": "https://localhost:8080/",
          "height": 35
        },
        "outputId": "909d962d-f449-4601-b5d8-ee0ecb47583d"
      },
      "source": [
        "colab_transfer.copy_file(\n",
        "    file_name=input_file_name,\n",
        "    source=drive_path,\n",
        "    destination=colab_path,\n",
        ")"
      ],
      "execution_count": null,
      "outputs": [
        {
          "output_type": "stream",
          "text": [
            "Copying /content/drive/My Drive/original_horizontal_steam_banners.tar to /content/original_horizontal_steam_banners.tar\n"
          ],
          "name": "stdout"
        }
      ]
    },
    {
      "cell_type": "code",
      "metadata": {
        "id": "O_jOrbqeGaPs",
        "colab_type": "code",
        "colab": {}
      },
      "source": [
        "!mkdir -p /content/data/original_horizontal_steam_banners/"
      ],
      "execution_count": null,
      "outputs": []
    },
    {
      "cell_type": "code",
      "metadata": {
        "id": "WMxA2EKsFv5W",
        "colab_type": "code",
        "colab": {}
      },
      "source": [
        "!tar xvf original_horizontal_steam_banners.tar -C /"
      ],
      "execution_count": null,
      "outputs": []
    },
    {
      "cell_type": "markdown",
      "metadata": {
        "id": "2W2-mzdWCW6D",
        "colab_type": "text"
      },
      "source": [
        "### Vertical banners"
      ]
    },
    {
      "cell_type": "code",
      "metadata": {
        "id": "ScP7amdVGFmD",
        "colab_type": "code",
        "colab": {}
      },
      "source": [
        "input_file_name = 'original_vertical_steam_banners.tar'"
      ],
      "execution_count": null,
      "outputs": []
    },
    {
      "cell_type": "markdown",
      "metadata": {
        "id": "xZpd-mTnFal5",
        "colab_type": "text"
      },
      "source": [
        "Save to Google Drive"
      ]
    },
    {
      "cell_type": "code",
      "metadata": {
        "id": "F9kGfZSzCYjK",
        "colab_type": "code",
        "colab": {}
      },
      "source": [
        "!du -sh /content/data/original_vertical_steam_banners/"
      ],
      "execution_count": null,
      "outputs": []
    },
    {
      "cell_type": "code",
      "metadata": {
        "id": "4XVVmdfACcLu",
        "colab_type": "code",
        "colab": {}
      },
      "source": [
        "!tar cvf original_vertical_steam_banners.tar /content/data/original_vertical_steam_banners/"
      ],
      "execution_count": null,
      "outputs": []
    },
    {
      "cell_type": "code",
      "metadata": {
        "id": "flEmSRx5Cc2V",
        "colab_type": "code",
        "colab": {
          "base_uri": "https://localhost:8080/",
          "height": 35
        },
        "outputId": "a855d5bc-7012-4a8e-8320-e14293a2716b"
      },
      "source": [
        "!du -sh /content/original_vertical_steam_banners.tar"
      ],
      "execution_count": null,
      "outputs": [
        {
          "output_type": "stream",
          "text": [
            "723M\t/content/original_vertical_steam_banners.tar\n"
          ],
          "name": "stdout"
        }
      ]
    },
    {
      "cell_type": "code",
      "metadata": {
        "id": "Vrw_C7peCd-8",
        "colab_type": "code",
        "colab": {}
      },
      "source": [
        "colab_transfer.copy_file(\n",
        "    file_name=input_file_name,\n",
        "    source=colab_path,\n",
        "    destination=drive_path,\n",
        ")"
      ],
      "execution_count": null,
      "outputs": []
    },
    {
      "cell_type": "markdown",
      "metadata": {
        "id": "LVmKIYMMFci8",
        "colab_type": "text"
      },
      "source": [
        "Load from Google Drive"
      ]
    },
    {
      "cell_type": "code",
      "metadata": {
        "id": "ic0caJXGFc-Z",
        "colab_type": "code",
        "colab": {
          "base_uri": "https://localhost:8080/",
          "height": 35
        },
        "outputId": "d0861db7-1a21-4254-d7d6-2d6c3eea5f51"
      },
      "source": [
        "colab_transfer.copy_file(\n",
        "    file_name=input_file_name,\n",
        "    source=drive_path,\n",
        "    destination=colab_path,\n",
        ")"
      ],
      "execution_count": null,
      "outputs": [
        {
          "output_type": "stream",
          "text": [
            "Copying /content/drive/My Drive/original_vertical_steam_banners.tar to /content/original_vertical_steam_banners.tar\n"
          ],
          "name": "stdout"
        }
      ]
    },
    {
      "cell_type": "code",
      "metadata": {
        "id": "U1dm0dDLG0kt",
        "colab_type": "code",
        "colab": {}
      },
      "source": [
        "!mkdir -p /content/data/original_vertical_steam_banners/"
      ],
      "execution_count": null,
      "outputs": []
    },
    {
      "cell_type": "code",
      "metadata": {
        "id": "f4CJMmdpG66Z",
        "colab_type": "code",
        "colab": {}
      },
      "source": [
        "!tar xvf original_vertical_steam_banners.tar -C /"
      ],
      "execution_count": null,
      "outputs": []
    },
    {
      "cell_type": "markdown",
      "metadata": {
        "id": "xPspC2iOh2BG",
        "colab_type": "text"
      },
      "source": [
        "## Post-processing Steam banners\n",
        "\n"
      ]
    },
    {
      "cell_type": "code",
      "metadata": {
        "id": "W1HVCK65LQLD",
        "colab_type": "code",
        "colab": {}
      },
      "source": [
        "import os\n",
        "\n",
        "os.chdir('/content/')"
      ],
      "execution_count": null,
      "outputs": []
    },
    {
      "cell_type": "markdown",
      "metadata": {
        "id": "f3-CDqqQiMYI",
        "colab_type": "text"
      },
      "source": [
        "Create a folder where banners resized to square proportions will be stored"
      ]
    },
    {
      "cell_type": "code",
      "metadata": {
        "id": "Czj0nkcwNuVy",
        "colab_type": "code",
        "colab": {}
      },
      "source": [
        "prefixe = 'resized'\n",
        "\n",
        "if is_horizontal_banner:\n",
        "  prefixe += '_horizontal'\n",
        "else:\n",
        "  prefixe += '_vertical'\n",
        "\n",
        "Path('data/'+prefixe+'_steam_banners/').mkdir(exist_ok=True)"
      ],
      "execution_count": null,
      "outputs": []
    },
    {
      "cell_type": "markdown",
      "metadata": {
        "id": "SYWtB1QAi3if",
        "colab_type": "text"
      },
      "source": [
        "Function to read banner names"
      ]
    },
    {
      "cell_type": "code",
      "metadata": {
        "id": "Zzc3Gir7e3I7",
        "colab_type": "code",
        "colab": {}
      },
      "source": [
        "def get_banner_names(prefixe='original',\n",
        "                     is_horizontal_banner=True):\n",
        "  if is_horizontal_banner:\n",
        "    prefixe += '_horizontal'\n",
        "  else:\n",
        "    prefixe += '_vertical'\n",
        "\n",
        "  banner_names = [Path(f).name for f in glob.glob('data/'+prefixe+'_steam_banners/*.jpg')]\n",
        "  return banner_names"
      ],
      "execution_count": null,
      "outputs": []
    },
    {
      "cell_type": "markdown",
      "metadata": {
        "id": "IG9oCmL7i_6D",
        "colab_type": "text"
      },
      "source": [
        "Find banners which were downloaded but not yet resized"
      ]
    },
    {
      "cell_type": "code",
      "metadata": {
        "id": "PhsdgpVLfEeo",
        "colab_type": "code",
        "colab": {}
      },
      "source": [
        "def find_new_banners(is_horizontal_banner=True):\n",
        "  l_original = get_banner_names('original',\n",
        "                                is_horizontal_banner=is_horizontal_banner)\n",
        "  l_resized = get_banner_names('resized',\n",
        "                               is_horizontal_banner=is_horizontal_banner)\n",
        "\n",
        "  l_new = set(l_original).difference(l_resized)\n",
        "\n",
        "  app_ids_new = [int(app_id.strip(get_file_extension())) for app_id in l_new]\n",
        "  \n",
        "  print('#banners downloaded but not yet resized = {}'.format(len(app_ids_new)))\n",
        "  \n",
        "  return app_ids_new"
      ],
      "execution_count": null,
      "outputs": []
    },
    {
      "cell_type": "markdown",
      "metadata": {
        "id": "JO8V8pqhkKHx",
        "colab_type": "text"
      },
      "source": [
        "Handle a log file with appIDs of banners which have yet to be resized"
      ]
    },
    {
      "cell_type": "code",
      "metadata": {
        "id": "ZQCJ4Zj6fY6n",
        "colab_type": "code",
        "colab": {}
      },
      "source": [
        "def get_copy_and_resize_todo_file_name():\n",
        "  return 'copy_and_resize_todo.txt'\n",
        "\n",
        "def create_copy_and_resize_todo(is_horizontal_banner=True):\n",
        "  \n",
        "  app_ids_new = find_new_banners(is_horizontal_banner=is_horizontal_banner)\n",
        "  \n",
        "  with open(get_copy_and_resize_todo_file_name(), 'w') as f:\n",
        "    for app_id in app_ids_new:\n",
        "      f.write(str(app_id) + '\\n')\n",
        "\n",
        "  return\n",
        "\n",
        "def load_copy_and_resize_todo():\n",
        "\n",
        "  with open(get_copy_and_resize_todo_file_name(), 'r') as f:\n",
        "      app_ids = [int(app_id.strip()) for app_id in f.readlines()]\n",
        "  \n",
        "  return app_ids"
      ],
      "execution_count": null,
      "outputs": []
    },
    {
      "cell_type": "code",
      "metadata": {
        "id": "KII4qxRshfIg",
        "colab_type": "code",
        "colab": {
          "base_uri": "https://localhost:8080/",
          "height": 35
        },
        "outputId": "e47b50e4-6a15-431e-9803-7d6a1e5a8017"
      },
      "source": [
        "create_copy_and_resize_todo(is_horizontal_banner=is_horizontal_banner) "
      ],
      "execution_count": null,
      "outputs": [
        {
          "output_type": "stream",
          "text": [
            "#banners downloaded but not yet resized = 14035\n"
          ],
          "name": "stdout"
        }
      ]
    },
    {
      "cell_type": "markdown",
      "metadata": {
        "id": "eIb8CjTEk2cx",
        "colab_type": "text"
      },
      "source": [
        "Install ImageMagick"
      ]
    },
    {
      "cell_type": "code",
      "metadata": {
        "id": "RILUSIqtNNZ9",
        "colab_type": "code",
        "colab": {
          "base_uri": "https://localhost:8080/",
          "height": 164
        },
        "outputId": "bf9d3fec-1f8a-43c4-b958-2d152a1c14a1"
      },
      "source": [
        "!apt-get install imagemagick"
      ],
      "execution_count": null,
      "outputs": [
        {
          "output_type": "stream",
          "text": [
            "Reading package lists... Done\n",
            "Building dependency tree       \n",
            "Reading state information... Done\n",
            "imagemagick is already the newest version (8:6.9.7.4+dfsg-16ubuntu6.8).\n",
            "The following package was automatically installed and is no longer required:\n",
            "  libnvidia-common-430\n",
            "Use 'apt autoremove' to remove it.\n",
            "0 upgraded, 0 newly installed, 0 to remove and 25 not upgraded.\n"
          ],
          "name": "stdout"
        }
      ]
    },
    {
      "cell_type": "markdown",
      "metadata": {
        "id": "iKB2QL2yk-A7",
        "colab_type": "text"
      },
      "source": [
        "Resize horizontal banners from 215x460 pixels to 215x215 pixels.\n",
        "\n",
        "Resize vertical banners from 450x300 pixels to 256x256 pixels.\n",
        "\n",
        "There are two possible methods: `mogrify` and `convert`."
      ]
    },
    {
      "cell_type": "markdown",
      "metadata": {
        "id": "XkoB43bhyi1J",
        "colab_type": "text"
      },
      "source": [
        "[Batch resize](https://stackoverflow.com/a/18018161) with `mogrify` for a fast post-processing, even on the cloud!\n",
        "\n",
        "NB: We cannot make use of `load_copy_and_resize_todo()` with `mogrify`, because there is no `for`-loop."
      ]
    },
    {
      "cell_type": "code",
      "metadata": {
        "id": "nJFmmwLEyjJY",
        "colab_type": "code",
        "colab": {}
      },
      "source": [
        "  if is_horizontal_banner:\n",
        "\n",
        "    !mogrify \\\n",
        "    -resize '215x215!' \\\n",
        "    -path /content/data/resized_horizontal_steam_banners \\\n",
        "    /content/data/original_horizontal_steam_banners/*.jpg\n",
        "\n",
        "  else:\n",
        "\n",
        "    !mogrify \\\n",
        "    -resize '256x256!' \\\n",
        "    -path /content/data/resized_vertical_steam_banners \\\n",
        "    /content/data/original_vertical_steam_banners/*.jpg\n"
      ],
      "execution_count": null,
      "outputs": []
    },
    {
      "cell_type": "code",
      "metadata": {
        "id": "1O0_23Df0Vfj",
        "colab_type": "code",
        "colab": {}
      },
      "source": [
        "if is_horizontal_banner:\n",
        "  !ls /content/data/original_horizontal_steam_banners/ | wc -l\n",
        "  !ls /content/data/resized_horizontal_steam_banners/ | wc -l\n",
        "else:\n",
        "  !ls /content/data/original_vertical_steam_banners/ | wc -l\n",
        "  !ls /content/data/resized_vertical_steam_banners/ | wc -l"
      ],
      "execution_count": null,
      "outputs": []
    },
    {
      "cell_type": "markdown",
      "metadata": {
        "id": "zqY0OunuzWTI",
        "colab_type": "text"
      },
      "source": [
        "Alternatively, use a `for`-loop to call `convert` on each image.\n",
        "\n",
        "NB: A `for`-loop is necessary here, because,in contrast to `mogrify`, `convert` would load all the images into memory which would not be a good idea here, with close to 20k images.\n",
        "\n",
        "**Caveat: this process is extremely fast [if run locally](https://github.com/woctezuma/download-steam-banners/blob/master/batch_resize_images.py), and is extremely slow if run on the cloud!**"
      ]
    },
    {
      "cell_type": "code",
      "metadata": {
        "id": "O8JY7BQ6i8UC",
        "colab_type": "code",
        "colab": {}
      },
      "source": [
        "for app_id in load_copy_and_resize_todo():\n",
        "  if is_horizontal_banner:\n",
        "    !echo convert data/original_horizontal_steam_banners/{app_id}.jpg -resize '215x215!' data/resized_horizontal_steam_banners/{app_id}.jpg\n",
        "    !convert data/original_horizontal_steam_banners/{app_id}.jpg -resize '215x215!' data/resized_horizontal_steam_banners/{app_id}.jpg\n",
        "  else:\n",
        "    !echo convert data/original_vertical_steam_banners/{app_id}.jpg -resize '256x256!' data/resized_vertical_steam_banners/{app_id}.jpg\n",
        "    !convert data/original_vertical_steam_banners/{app_id}.jpg -resize '256x256!' data/resized_vertical_steam_banners/{app_id}.jpg    "
      ],
      "execution_count": null,
      "outputs": []
    },
    {
      "cell_type": "markdown",
      "metadata": {
        "id": "R24XReVWleGJ",
        "colab_type": "text"
      },
      "source": [
        "\n",
        "Manually check one banner"
      ]
    },
    {
      "cell_type": "code",
      "metadata": {
        "id": "PplnNSO2YkGH",
        "colab_type": "code",
        "colab": {
          "base_uri": "https://localhost:8080/",
          "height": 524
        },
        "outputId": "6dcf02d5-2494-4c3c-8997-fedf73668c95"
      },
      "source": [
        "import cv2\n",
        "from matplotlib import pyplot as plt\n",
        "\n",
        "app_id = 620\n",
        "\n",
        "for prefixe in ['original_horizontal', \n",
        "                'resized_horizontal',\n",
        "                'original_vertical', \n",
        "                'resized_vertical']:\n",
        "\n",
        "  img_name = 'data/' + prefixe + '_steam_banners/'+str(app_id)+'.jpg'\n",
        "\n",
        "  img = cv2.imread(img_name)\n",
        "\n",
        "  try:\n",
        "    plt.imshow(img[..., ::-1])\n",
        "  except TypeError:\n",
        "    continue\n",
        "\n",
        "  print('Dimensions: {} for file: {}'.format(img.shape,\n",
        "                                             img_name))\n",
        "\n",
        "  plt.xticks([]), plt.yticks([])  # to hide tick values on X and Y axis\n",
        "  plt.show()"
      ],
      "execution_count": null,
      "outputs": [
        {
          "output_type": "stream",
          "text": [
            "Dimensions: (450, 300, 3) for file: data/original_vertical_steam_banners/620.jpg\n"
          ],
          "name": "stdout"
        },
        {
          "output_type": "display_data",
          "data": {
            "image/png": "[encoded data removed]",
            "text/plain": [
              "<Figure size 432x288 with 1 Axes>"
            ]
          },
          "metadata": {
            "tags": []
          }
        },
        {
          "output_type": "stream",
          "text": [
            "Dimensions: (256, 256, 3) for file: data/resized_vertical_steam_banners/620.jpg\n"
          ],
          "name": "stdout"
        },
        {
          "output_type": "display_data",
          "data": {
            "image/png": "[encoded data removed]",
            "text/plain": [
              "<Figure size 432x288 with 1 Axes>"
            ]
          },
          "metadata": {
            "tags": []
          }
        }
      ]
    },
    {
      "cell_type": "markdown",
      "metadata": {
        "id": "g-09uJmymxOz",
        "colab_type": "text"
      },
      "source": [
        "Automatically check every banner. Caveat: this is slow and optional!"
      ]
    },
    {
      "cell_type": "code",
      "metadata": {
        "id": "HQmkz-Afm2nS",
        "colab_type": "code",
        "colab": {}
      },
      "source": [
        "import cv2\n",
        "\n",
        "app_ids_to_resize = []\n",
        "counters = {'original':0, 'resized':0}\n",
        "\n",
        "for counter, app_id in enumerate(get_app_ids()):\n",
        "  \n",
        "  img_name = get_banner_file_name(app_id=app_id,\n",
        "                      prefixe='resized',\n",
        "                      is_horizontal_banner=is_horizontal_banner)\n",
        "\n",
        "  img = cv2.imread(img_name)\n",
        "  \n",
        "  if img is None:\n",
        "    print('Missing banner for appID = {}'.format(app_id))\n",
        "    continue\n",
        "  \n",
        "  if img.shape[0] != img.shape[1]:    \n",
        "    print('Non-square banner size for appID = {}'.format(app_id))\n",
        "    app_ids_to_resize.append(app_id)\n",
        "    counters['original'] += 1\n",
        "  else:\n",
        "    counters['resized'] += 1\n",
        "\n",
        "  if (counter+1) % 100 == 0:\n",
        "    print('Current counters: {}'.format(counters))    "
      ],
      "execution_count": null,
      "outputs": []
    },
    {
      "cell_type": "markdown",
      "metadata": {
        "id": "9fU_lDo7oVdH",
        "colab_type": "text"
      },
      "source": [
        "Ensure that the banners which had slipped through the resize process somehow are resized.\n",
        "\n",
        "**Caveat: this process is extremely fast [if run locally](https://github.com/woctezuma/download-steam-banners/blob/master/batch_resize_images.py), and is extremely slow if run on the cloud!**"
      ]
    },
    {
      "cell_type": "code",
      "metadata": {
        "id": "Oki-7CyQoOkG",
        "colab_type": "code",
        "colab": {}
      },
      "source": [
        "for counter, app_id in enumerate(app_ids_to_resize):  \n",
        "  \n",
        "  img_name = get_banner_file_name(app_id=app_id,\n",
        "                      prefixe='resized',\n",
        "                      is_horizontal_banner=is_horizontal_banner)\n",
        "\n",
        "  img = cv2.imread(img_name)\n",
        "   \n",
        "  if img.shape[0] != img.shape[1]:\n",
        "    if is_horizontal_banner:\n",
        "      !echo mogrify -resize '215x215!' data/resized_horizontal_steam_banners/{app_id}.jpg\n",
        "      !mogrify -resize '215x215!' data/resized_horizontal_steam_banners/{app_id}.jpg\n",
        "    else:\n",
        "      !echo mogrify -resize '256x256!' data/resized_vertical_steam_banners/{app_id}.jpg\n",
        "      !mogrify -resize '256x256!' data/resized_vertical_steam_banners/{app_id}.jpg    \n",
        "  else:\n",
        "    continue\n",
        "\n",
        "  if (counter+1) % 100 == 0:\n",
        "    print('{} images processed'.format(counter+1))"
      ],
      "execution_count": null,
      "outputs": []
    },
    {
      "cell_type": "markdown",
      "metadata": {
        "id": "sPrxQk5kSIQ3",
        "colab_type": "text"
      },
      "source": [
        "## Archive the resized images"
      ]
    },
    {
      "cell_type": "markdown",
      "metadata": {
        "id": "53VtkuCaRzaD",
        "colab_type": "text"
      },
      "source": [
        "At the end, archive the resized images into a .tar file, and copy it to Google Drive."
      ]
    },
    {
      "cell_type": "code",
      "metadata": {
        "colab_type": "code",
        "id": "Xlhs2ntmSKLT",
        "colab": {}
      },
      "source": [
        "import colab_transfer\n",
        "\n",
        "colab_path = colab_transfer.get_path_to_home_of_local_machine()\n",
        "drive_path = colab_transfer.get_path_to_home_of_google_drive()"
      ],
      "execution_count": null,
      "outputs": []
    },
    {
      "cell_type": "markdown",
      "metadata": {
        "id": "GNM0iTqpSWYN",
        "colab_type": "text"
      },
      "source": [
        "### Horizontal banners"
      ]
    },
    {
      "cell_type": "code",
      "metadata": {
        "colab_type": "code",
        "id": "EV0wPYWMSaa_",
        "colab": {}
      },
      "source": [
        "input_file_name = 'resized_horizontal_steam_banners.tar'"
      ],
      "execution_count": null,
      "outputs": []
    },
    {
      "cell_type": "markdown",
      "metadata": {
        "colab_type": "text",
        "id": "9wa_gseGSabK"
      },
      "source": [
        "Save to Google Drive"
      ]
    },
    {
      "cell_type": "code",
      "metadata": {
        "colab_type": "code",
        "id": "0GKlHMC9SabN",
        "colab": {}
      },
      "source": [
        "!du -sh /content/data/resized_horizontal_steam_banners/"
      ],
      "execution_count": null,
      "outputs": []
    },
    {
      "cell_type": "code",
      "metadata": {
        "colab_type": "code",
        "id": "LL5F4VftSabW",
        "colab": {}
      },
      "source": [
        "!tar cvf resized_horizontal_steam_banners.tar /content/data/resized_horizontal_steam_banners/"
      ],
      "execution_count": null,
      "outputs": []
    },
    {
      "cell_type": "code",
      "metadata": {
        "colab_type": "code",
        "id": "TlmFp1iISabe",
        "colab": {}
      },
      "source": [
        "!du -sh /content/resized_horizontal_steam_banners.tar"
      ],
      "execution_count": null,
      "outputs": []
    },
    {
      "cell_type": "code",
      "metadata": {
        "colab_type": "code",
        "id": "Vv0703dgSabq",
        "colab": {}
      },
      "source": [
        "colab_transfer.copy_file(\n",
        "    file_name=input_file_name,\n",
        "    source=colab_path,\n",
        "    destination=drive_path,\n",
        ")"
      ],
      "execution_count": null,
      "outputs": []
    },
    {
      "cell_type": "markdown",
      "metadata": {
        "id": "WGSR5cDtSVO7",
        "colab_type": "text"
      },
      "source": [
        "### Vertical banners"
      ]
    },
    {
      "cell_type": "code",
      "metadata": {
        "colab_type": "code",
        "id": "MTVm89YFSKLn",
        "colab": {}
      },
      "source": [
        "input_file_name = 'resized_vertical_steam_banners.tar'"
      ],
      "execution_count": null,
      "outputs": []
    },
    {
      "cell_type": "markdown",
      "metadata": {
        "colab_type": "text",
        "id": "8iPfM_LYSKLx"
      },
      "source": [
        "Save to Google Drive"
      ]
    },
    {
      "cell_type": "code",
      "metadata": {
        "colab_type": "code",
        "id": "aw3ySnRRSKL1",
        "colab": {}
      },
      "source": [
        "!du -sh /content/data/resized_vertical_steam_banners/"
      ],
      "execution_count": null,
      "outputs": []
    },
    {
      "cell_type": "code",
      "metadata": {
        "colab_type": "code",
        "id": "VlrwtOsMSKMA",
        "colab": {}
      },
      "source": [
        "!tar cvf resized_vertical_steam_banners.tar /content/data/resized_vertical_steam_banners/"
      ],
      "execution_count": null,
      "outputs": []
    },
    {
      "cell_type": "code",
      "metadata": {
        "colab_type": "code",
        "id": "Bmcbdnj4SKMK",
        "colab": {}
      },
      "source": [
        "!du -sh /content/resized_vertical_steam_banners.tar"
      ],
      "execution_count": null,
      "outputs": []
    },
    {
      "cell_type": "code",
      "metadata": {
        "colab_type": "code",
        "id": "QUa_uAnPSKMT",
        "colab": {}
      },
      "source": [
        "colab_transfer.copy_file(\n",
        "    file_name=input_file_name,\n",
        "    source=colab_path,\n",
        "    destination=drive_path,\n",
        ")"
      ],
      "execution_count": null,
      "outputs": []
    }
  ]
}